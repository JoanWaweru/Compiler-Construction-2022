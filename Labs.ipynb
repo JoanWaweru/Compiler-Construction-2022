{
  "nbformat": 4,
  "nbformat_minor": 0,
  "metadata": {
    "colab": {
      "name": "Labs.ipynb",
      "provenance": [],
      "authorship_tag": "ABX9TyPnqIaiCUqSudwOsYeT5kVI",
      "include_colab_link": true
    },
    "kernelspec": {
      "name": "python3",
      "display_name": "Python 3"
    },
    "language_info": {
      "name": "python"
    }
  },
  "cells": [
    {
      "cell_type": "markdown",
      "metadata": {
        "id": "view-in-github",
        "colab_type": "text"
      },
      "source": [
        "<a href=\"https://colab.research.google.com/github/JoanWaweru/Compiler-Construction-2022/blob/main/Labs.ipynb\" target=\"_parent\"><img src=\"https://colab.research.google.com/assets/colab-badge.svg\" alt=\"Open In Colab\"/></a>"
      ]
    },
    {
      "cell_type": "markdown",
      "source": [
        "# **Compiler Construction Group Work**"
      ],
      "metadata": {
        "id": "kkh0nW3K90Ku"
      }
    },
    {
      "cell_type": "markdown",
      "source": [
        "Group Members: 122466, 120374, 121425, 122182"
      ],
      "metadata": {
        "id": "8Xe1zHZa96kS"
      }
    },
    {
      "cell_type": "markdown",
      "source": [
        "*Lab 1: Definition of Flex, Lex, Byson and Yacc* "
      ],
      "metadata": {
        "id": "vUAY6JH4-P32"
      }
    },
    {
      "cell_type": "code",
      "source": [],
      "metadata": {
        "id": "N4H5oGho-XVM"
      },
      "execution_count": null,
      "outputs": []
    }
  ]
}