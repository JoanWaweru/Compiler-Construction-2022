{
  "nbformat": 4,
  "nbformat_minor": 0,
  "metadata": {
    "colab": {
      "provenance": [],
      "collapsed_sections": [],
      "include_colab_link": true
    },
    "kernelspec": {
      "name": "python3",
      "display_name": "Python 3"
    },
    "language_info": {
      "name": "python"
    }
  },
  "cells": [
    {
      "cell_type": "markdown",
      "metadata": {
        "id": "view-in-github",
        "colab_type": "text"
      },
      "source": [
        "<a href=\"https://colab.research.google.com/github/ShemMwanza/Compiler-Construction-2022/blob/main/Labs.ipynb\" target=\"_parent\"><img src=\"https://colab.research.google.com/assets/colab-badge.svg\" alt=\"Open In Colab\"/></a>"
      ]
    },
    {
      "cell_type": "markdown",
      "source": [
        "# **Compiler Construction Group Work**\n",
        "\n",
        "---\n",
        "\n"
      ],
      "metadata": {
        "id": "kkh0nW3K90Ku"
      }
    },
    {
      "cell_type": "markdown",
      "source": [
        "Group Members: 122466, 120374, 121425, 122182"
      ],
      "metadata": {
        "id": "8Xe1zHZa96kS"
      }
    },
    {
      "cell_type": "markdown",
      "source": [
        "# **Lab 1: Definition of Flex, Lex, Bison and Yacc** \n",
        "\n",
        "---\n"
      ],
      "metadata": {
        "id": "vUAY6JH4-P32"
      }
    },
    {
      "cell_type": "markdown",
      "source": [
        "# **A) FLEX**"
      ],
      "metadata": {
        "id": "dC6yz_Spq4eG"
      }
    },
    {
      "cell_type": "markdown",
      "source": [
        "Flex (fast lexical analyzer generator) is a tool for building compilers, it generates lexical analyzers.\n",
        "\n",
        "\n",
        "*   A flex program has a list of regular expressions with actions which are instructions about what to do when the input matches any of them.\n",
        "*   A flex-generated scanner reads through its input, matching the input against all of the regular expressions and doing the appropriate action on each match.\n",
        "\n",
        "\n",
        "*   Flex translates all regular expressions into an efficient internal form that lets it match the input against all the patterns simultaneously.\n",
        "\n",
        "\n",
        "\n",
        "\n",
        "\n",
        "\n",
        "\n",
        "\n"
      ],
      "metadata": {
        "id": "a55WlIO4_kHm"
      }
    },
    {
      "cell_type": "markdown",
      "source": [
        "![picture](https://media.geeksforgeeks.org/wp-content/uploads/how_flex_is_used.jpeg)"
      ],
      "metadata": {
        "id": "zVBm_2JITDAO"
      }
    },
    {
      "cell_type": "markdown",
      "source": [
        "Simple Word Count Flex Program. It is meant to read through a file and return the number of lines, words, and characters."
      ],
      "metadata": {
        "id": "YriN2ShMcXzf"
      }
    },
    {
      "cell_type": "code",
      "source": [
        "/***Variable are accessed inside yylex() and main()***/\n",
        "%{\n",
        "int chars = 0;\n",
        "int words = 0;\n",
        "int lines = 0;\n",
        "%}\n",
        "\n",
        "/***Rules Section***/\n",
        "\n",
        "%%\n",
        "[a-zA-Z]+ { words++; chars += strlen(yytext); }\n",
        "\\n { chars++; lines++; }\n",
        ". { chars++; }\n",
        "%%\n",
        "\n",
        "/***Code Section that prints the number of lines,word and characters***/\n",
        "int main()\n",
        "{\n",
        " yylex();\n",
        " printf(\"%8d%8d%8d\\n\", lines, words, chars);\n",
        "}\n"
      ],
      "metadata": {
        "id": "N4H5oGho-XVM"
      },
      "execution_count": null,
      "outputs": []
    },
    {
      "cell_type": "markdown",
      "source": [
        "# **B) LEX**"
      ],
      "metadata": {
        "id": "tWlmi0VLq5Ka"
      }
    },
    {
      "cell_type": "markdown",
      "source": [
        "*   Lex is a program that generates lexical analyzer. It is used with YACC parser generator.\n",
        "*   The lexical analyzer is a program that transforms an input stream into a sequence of tokens.\n",
        "*   It reads the input stream and produces the source code as output through implementing the lexical analyzer in the C program.\n"
      ],
      "metadata": {
        "id": "5YPmP_jQw06x"
      }
    },
    {
      "cell_type": "markdown",
      "source": [
        " **The function of Lex is as follows:**\n",
        "1.   Lexical analyzer creates a program lex.1 in the Lex language.\n",
        "2.   Then Lex compiler runs the lex.1 program and produces a C program lex.yy.c.\n",
        "3.   C compiler runs the lex.yy.c program and produces an object program a.out. (a.out is a lexical analyzer that transforms an input stream into a sequence of tokens).\n",
        "This is illustrated in the diagram below\n",
        "\n",
        "![image.png](data:image/png;base64,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)"
      ],
      "metadata": {
        "id": "EVxhbzYCxFwD"
      }
    },
    {
      "cell_type": "markdown",
      "source": [
        "**Lex Syntax**\n",
        "\n",
        "{ definitions }\n",
        "\n",
        "%%\n",
        "\n",
        "{ rules }\n",
        "\n",
        "%%\n",
        "\n",
        "{ user subroutines }\n",
        "\n",
        "Where:\n",
        "\n",
        "\n",
        "*   Definitions include declarations of constant, variable and regular definitions.\n",
        "*   Rules define the statement of form p1 {action1} p2 {action2}....pn {action}. Where p1 describes the regular expression and action1 describes the actions the lexical analyzer should take when pattern p1 matches a lexeme.\n",
        "*   User subroutines are auxiliary procedures needed by the actions. The subroutine can be loaded with the lexical analyzer and compiled separately.\n",
        "\n",
        "\n"
      ],
      "metadata": {
        "id": "43LVTPHK0eG8"
      }
    },
    {
      "cell_type": "code",
      "source": [
        "%{\n",
        "\t#include<stdio.h>\n",
        "\t#include<string.h>\n",
        "\tint a = 0, b=0, c=0, d=0, l=0;\n",
        "%}\n",
        "\t\n",
        "\n",
        "%%\n",
        "[a-z] {a++;l++;}\n",
        "[A-Z] {b++;l++;}\n",
        "[0-9] {c++;l++;}\n",
        "[$&+, :;=?@#|'<>.-^*()%!] {d++;l++;}\n",
        ". ;\n",
        "%%\n",
        "\t\n",
        "int yywrap(void){}\n",
        "\t\n",
        "int main()\n",
        "{\t\n",
        "    // The function that starts the analysis\n",
        "\tyylex();\n",
        "\tif(a>0 && b>0 && c>0 && d>0 && l>=8)\n",
        "\tprintf(\"VALID\\n\");\n",
        "\telse\n",
        "\t\tprintf(\"INVALID\\n\");\n",
        "\treturn 0;\n",
        "}"
      ],
      "metadata": {
        "id": "n1Z6tZJEq513"
      },
      "execution_count": null,
      "outputs": []
    },
    {
      "cell_type": "markdown",
      "source": [
        "# **C) BISON**"
      ],
      "metadata": {
        "id": "SH3Rebzzq6bM"
      }
    },
    {
      "cell_type": "markdown",
      "source": [
        "\n",
        "\n",
        "*   Bison is a general-purpose parser generator that converts an annotated context-free grammar into a deterministic LR (Left-to-right,Rightmost derivation) or generalized LR(GLR (Generalized LR)) parser employing LALR(1) (LookAhead, Left-to-right, Rightmost derivation producer with 1 lookahead token) parser tables.\n",
        "* Bison is upward compatible with Yacc: all properly-written Yacc grammars ought to work with Bison with no change.\n",
        "\n"
      ],
      "metadata": {
        "id": "OQBUeUKr1hNH"
      }
    },
    {
      "cell_type": "code",
      "source": [
        "%{\n",
        "Prologue\n",
        "%}\n",
        "\n",
        "Bison declarations\n",
        "\n",
        "%%\n",
        "Grammar rules\n",
        "%%\n",
        "Epilogue"
      ],
      "metadata": {
        "id": "_qmDD7ULonb7"
      },
      "execution_count": null,
      "outputs": []
    },
    {
      "cell_type": "markdown",
      "source": [
        "* The '%%', '%{' and '%}' are punctuation that appears in every Bison grammar file to separate the sections.\n",
        "* The prologue may define types and variables used in the actions.\n",
        "* The Bison declarations declare the names of the terminal and nonterminal symbols, and may also describe operator precedence and the data types of semantic values of various symbols.\n",
        "* The grammar rules define how to construct each nonterminal symbol from its parts.\n",
        "* The epilogue is where definitions of functions declared in the prologue go here."
      ],
      "metadata": {
        "id": "NRtSk06Sot_j"
      }
    },
    {
      "cell_type": "markdown",
      "source": [
        "![image.png](data:image/png;base64,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)"
      ],
      "metadata": {
        "id": "HGpXhv1do-ek"
      }
    },
    {
      "cell_type": "markdown",
      "source": [
        "* Code snippet of grammar specification for bison"
      ],
      "metadata": {
        "id": "fmndHJlkpEIC"
      }
    },
    {
      "cell_type": "code",
      "source": [
        "/* Mini Calculator */\n",
        "/* calc.y */\n",
        "\n",
        "%{\n",
        "#include \"heading.h\"\n",
        "int yyerror(char *s);\n",
        "int yylex(void);\n",
        "%}\n",
        "\n",
        "%union{\n",
        "  int\t\tint_val;\n",
        "  string*\top_val;\n",
        "}\n",
        "\n",
        "%start\tinput \n",
        "\n",
        "%token\t<int_val>\tINTEGER_LITERAL\n",
        "%type\t<int_val>\texp\n",
        "%left\tPLUS\n",
        "%left\tMULT\n",
        "\n",
        "%%\n",
        "\n",
        "input:\t\t/* empty */\n",
        "\t\t| exp\t{ cout << \"Result: \" << $1 << endl; }\n",
        "\t\t;\n",
        "\n",
        "exp:\t\tINTEGER_LITERAL\t{ $$ = $1; }\n",
        "\t\t| exp PLUS exp\t{ $$ = $1 + $3; }\n",
        "\t\t| exp MULT exp\t{ $$ = $1 * $3; }\n",
        "\t\t;\n",
        "\n",
        "%%\n",
        "\n",
        "int yyerror(string s)\n",
        "{\n",
        "  extern int yylineno;\t// defined and maintained in lex.c\n",
        "  extern char *yytext;\t// defined and maintained in lex.c\n",
        "  \n",
        "  cerr << \"ERROR: \" << s << \" at symbol \\\"\" << yytext;\n",
        "  cerr << \"\\\" on line \" << yylineno << endl;\n",
        "  exit(1);\n",
        "}\n",
        "\n",
        "int yyerror(char *s)\n",
        "{\n",
        "  return yyerror(string(s));\n",
        "}"
      ],
      "metadata": {
        "id": "H4yDy4rppFtX"
      },
      "execution_count": null,
      "outputs": []
    },
    {
      "cell_type": "markdown",
      "source": [
        "# **D) YACC**"
      ],
      "metadata": {
        "id": "AgD0v2Beq7YA"
      }
    },
    {
      "cell_type": "markdown",
      "source": [
        "\n",
        "*   YACC (Yet Another Compiler-Compiler) is an LALR(1) (LookAhead, Left-to-right, Rightmost derivation producer with 1 lookahead token) parser generator. \n",
        "*   YACC was initially intended to be used in conjunction with Lex.\n",
        "*   The rule or grammar is the input to YACC, and the output is a C program.\n",
        "*   YACC input file is divided into three parts:\n",
        "    1.   Definition -> includes information about the tokens used in the syntax definition.\n",
        "    2.   Rules -> contains grammar definition in a modified Backus Normal Form (BNF)\n",
        "    3.   Auxiliary Routines -> includes function definitions for every function needed in rules part.\n",
        "*   The output file \"file.output\" contains the parsing tables. The file \"file.tab.h\" contains declarations. The parser called the yyparse( ). Parser expects to use a function called yylex() to get tokens. The syntax is as follows:\n",
        "\n",
        "        def function_name_here(symbol):\n",
        "          expression = expression token_name term"
      ],
      "metadata": {
        "id": "5r3fhzr9tuX4"
      }
    },
    {
      "cell_type": "markdown",
      "source": [
        "![image.png](data:image/png;base64,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)"
      ],
      "metadata": {
        "id": "hP4Kv8EXyv9x"
      }
    },
    {
      "cell_type": "markdown",
      "source": [
        "*Yacc Code Snippet*"
      ],
      "metadata": {
        "id": "1ghGwdLyz48P"
      }
    },
    {
      "cell_type": "code",
      "source": [
        "%{\n",
        "#include <ctype.h>\n",
        "#include <stdio.h>\n",
        "#define YYSTYPE double /* double type for yacc stack */\n",
        "%}\n",
        "\n",
        "%%\n",
        "Lines : Lines S '\\n' { printf(\"OK \\n\"); }\n",
        "\t| S '\\n’\n",
        "\t| error '\\n' {yyerror(\"Error: reenter last line:\");\n",
        "\t\t\t\t\t\tyyerrok; };\n",
        "S\t : '(' S ')’\n",
        "\t| '[' S ']’\n",
        "\t| /* empty */ ;\n",
        "%%\n",
        "\n",
        "#include \"lex.yy.c\"\n",
        "\n",
        "void yyerror(char * s)\n",
        "/* yacc error handler */\n",
        "{\n",
        "fprintf (stderr, \"%s\\n\", s);\n",
        "}\n",
        "\n",
        "int main(void)\n",
        "{\n",
        "return yyparse();\n",
        "}\n"
      ],
      "metadata": {
        "id": "lR04g_CJ6CS9"
      },
      "execution_count": null,
      "outputs": []
    },
    {
      "cell_type": "markdown",
      "source": [
        "# **References**"
      ],
      "metadata": {
        "id": "bCA0MBKQ3JmD"
      }
    },
    {
      "cell_type": "markdown",
      "source": [
        "1.   JavaTPoint. 2021. YACC - javatpoint. [online] Available at: <https://www.javatpoint.com/yacc#:~:text=YACC%20stands%20for%20Yet%20Another,by%20LALR%20(1)%20grammar.> [Accessed 5 September 2022]. \n",
        "2.   GeeksforGeeks. 2021. Introduction to YACC - GeeksforGeeks. [online] Available at: <https://www.geeksforgeeks.org/introduction-to-yacc/> [Accessed 5 September 2022].\n",
        "3.   Tutorialandexample.com. 2020. YACC in Compiler Design. [online] Available at: <https://www.tutorialandexample.com/yacc> [Accessed 5 September 2022].\n",
        "1.   Levine, J. (2009). Flex & Bison: Text Processing Tools. \" O'Reilly Media, Inc.\".\n",
        "1.   LEX - javatpoint. (2022). Www.Javatpoint.Com. https://www.javatpoint.com/lex\n",
        "2.   Lex code for password validation. (2019, June 25). GeeksforGeeks. https://www.geeksforgeeks.org/lex-code-for-password-validation/\n",
        "2.   Geeks for Geeks. (2022). Flex (Fast Lexical Analyzer Generator ). Retrieved from Geeks for Geeks: https://www.geeksforgeeks.org/flex-fast-lexical-analyzer-generator/\n"
      ],
      "metadata": {
        "id": "p5t6LdTj3Q8E"
      }
    }
  ]
}