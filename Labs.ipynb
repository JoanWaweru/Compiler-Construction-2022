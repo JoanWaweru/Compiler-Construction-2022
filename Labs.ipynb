{
  "nbformat": 4,
  "nbformat_minor": 0,
  "metadata": {
    "colab": {
      "provenance": [],
      "collapsed_sections": [],
      "include_colab_link": true
    },
    "kernelspec": {
      "name": "python3",
      "display_name": "Python 3"
    },
    "language_info": {
      "name": "python"
    }
  },
  "cells": [
    {
      "cell_type": "markdown",
      "metadata": {
        "id": "view-in-github",
        "colab_type": "text"
      },
      "source": [
        "<a href=\"https://colab.research.google.com/github/JoanWaweru/Compiler-Construction-2022/blob/main/Labs.ipynb\" target=\"_parent\"><img src=\"https://colab.research.google.com/assets/colab-badge.svg\" alt=\"Open In Colab\"/></a>"
      ]
    },
    {
      "cell_type": "markdown",
      "source": [
        "# **Compiler Construction Group Work**\n",
        "\n",
        "---\n",
        "\n"
      ],
      "metadata": {
        "id": "kkh0nW3K90Ku"
      }
    },
    {
      "cell_type": "markdown",
      "source": [
        "Group Members: 122466, 120374, 121425, 122182"
      ],
      "metadata": {
        "id": "8Xe1zHZa96kS"
      }
    },
    {
      "cell_type": "markdown",
      "source": [
        "*Lab 1: Definition of Flex, Lex, Bison and Yacc* "
      ],
      "metadata": {
        "id": "vUAY6JH4-P32"
      }
    },
    {
      "cell_type": "markdown",
      "source": [
        "# **A) FLEX**"
      ],
      "metadata": {
        "id": "dC6yz_Spq4eG"
      }
    },
    {
      "cell_type": "markdown",
      "source": [
        "Flex (fast lexical analyzer generator) is a tool for building compilers, it generates lexical analyzers.\n",
        "\n",
        "\n",
        "*   A flex program has a list of regular expressions with actions which are instructions about what to do when the input matches any of them.\n",
        "*   A flex-generated scanner reads through its input, matching the input against all of the regular expressions and doing the appropriate action on each match.\n",
        "\n",
        "\n",
        "*   Flex translates all regular expressions into an efficient internal form that lets it match the input against all the patterns simultaneously.\n",
        "\n",
        "\n",
        "\n",
        "\n",
        "\n",
        "\n",
        "\n",
        "\n"
      ],
      "metadata": {
        "id": "a55WlIO4_kHm"
      }
    },
    {
      "cell_type": "markdown",
      "source": [
        "![picture](https://media.geeksforgeeks.org/wp-content/uploads/how_flex_is_used.jpeg)"
      ],
      "metadata": {
        "id": "zVBm_2JITDAO"
      }
    },
    {
      "cell_type": "markdown",
      "source": [
        "Simple Word Count Flex Program. It is meant to read through a file and return the number of lines, words, and characters."
      ],
      "metadata": {
        "id": "YriN2ShMcXzf"
      }
    },
    {
      "cell_type": "code",
      "source": [
        "/***Variable are accessed inside yylex() and main()***/\n",
        "%{\n",
        "int chars = 0;\n",
        "int words = 0;\n",
        "int lines = 0;\n",
        "%}\n",
        "\n",
        "/***Rules Section***/\n",
        "\n",
        "%%\n",
        "[a-zA-Z]+ { words++; chars += strlen(yytext); }\n",
        "\\n { chars++; lines++; }\n",
        ". { chars++; }\n",
        "%%\n",
        "\n",
        "/***Code Section that prints the number of lines,word and characters***/\n",
        "int main()\n",
        "{\n",
        " yylex();\n",
        " printf(\"%8d%8d%8d\\n\", lines, words, chars);\n",
        "}\n"
      ],
      "metadata": {
        "id": "N4H5oGho-XVM"
      },
      "execution_count": null,
      "outputs": []
    },
    {
      "cell_type": "markdown",
      "source": [
        "# **B) LEX**"
      ],
      "metadata": {
        "id": "tWlmi0VLq5Ka"
      }
    },
    {
      "cell_type": "markdown",
      "source": [
        "*   Lex is a program that generates lexical analyzer. It is used with YACC parser generator.\n",
        "*   The lexical analyzer is a program that transforms an input stream into a sequence of tokens.\n",
        "*   It reads the input stream and produces the source code as output through implementing the lexical analyzer in the C program.\n"
      ],
      "metadata": {
        "id": "5YPmP_jQw06x"
      }
    },
    {
      "cell_type": "markdown",
      "source": [
        " **The function of Lex is as follows:**\n",
        "1.   Lexical analyzer creates a program lex.1 in the Lex language.\n",
        "2.   Then Lex compiler runs the lex.1 program and produces a C program lex.yy.c.\n",
        "3.   C compiler runs the lex.yy.c program and produces an object program a.out. (a.out is a lexical analyzer that transforms an input stream into a sequence of tokens).\n",
        "This is illustrated in the diagram below\n",
        "\n",
        "![image.png](data:image/png;base64,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)"
      ],
      "metadata": {
        "id": "EVxhbzYCxFwD"
      }
    },
    {
      "cell_type": "markdown",
      "source": [
        "**Lex Syntax**\n",
        "\n",
        "{ definitions }\n",
        "\n",
        "%%\n",
        "\n",
        "{ rules }\n",
        "\n",
        "%%\n",
        "\n",
        "{ user subroutines }\n",
        "\n",
        "Where:\n",
        "\n",
        "\n",
        "*   Definitions include declarations of constant, variable and regular definitions.\n",
        "*   Rules define the statement of form p1 {action1} p2 {action2}....pn {action}. Where p1 describes the regular expression and action1 describes the actions the lexical analyzer should take when pattern p1 matches a lexeme.\n",
        "*   User subroutines are auxiliary procedures needed by the actions. The subroutine can be loaded with the lexical analyzer and compiled separately.\n",
        "\n",
        "\n"
      ],
      "metadata": {
        "id": "43LVTPHK0eG8"
      }
    },
    {
      "cell_type": "code",
      "source": [
        "%{\n",
        "\t#include<stdio.h>\n",
        "\t#include<string.h>\n",
        "\tint a = 0, b=0, c=0, d=0, l=0;\n",
        "%}\n",
        "\t\n",
        "\n",
        "%%\n",
        "[a-z] {a++;l++;}\n",
        "[A-Z] {b++;l++;}\n",
        "[0-9] {c++;l++;}\n",
        "[$&+, :;=?@#|'<>.-^*()%!] {d++;l++;}\n",
        ". ;\n",
        "%%\n",
        "\t\n",
        "int yywrap(void){}\n",
        "\t\n",
        "int main()\n",
        "{\t\n",
        "    // The function that starts the analysis\n",
        "\tyylex();\n",
        "\tif(a>0 && b>0 && c>0 && d>0 && l>=8)\n",
        "\tprintf(\"VALID\\n\");\n",
        "\telse\n",
        "\t\tprintf(\"INVALID\\n\");\n",
        "\treturn 0;\n",
        "}"
      ],
      "metadata": {
        "id": "n1Z6tZJEq513"
      },
      "execution_count": null,
      "outputs": []
    },
    {
      "cell_type": "markdown",
      "source": [
        "# **C) BISON**"
      ],
      "metadata": {
        "id": "SH3Rebzzq6bM"
      }
    },
    {
      "cell_type": "markdown",
      "source": [
        "\n",
        "\n",
        "*  Bison is a general-purpose parser generator that converts an annotated context-free grammar into a deterministic LR(Left-to-right) and Rightmost) or generalized LR(GLR) parser employing LALR(1) parser tables.\n",
        "*   List item\n",
        "\n"
      ],
      "metadata": {
        "id": "OQBUeUKr1hNH"
      }
    },
    {
      "cell_type": "code",
      "source": [],
      "metadata": {
        "id": "Av4nUmOeq601"
      },
      "execution_count": null,
      "outputs": []
    },
    {
      "cell_type": "markdown",
      "source": [
        "# **D) YACC**"
      ],
      "metadata": {
        "id": "AgD0v2Beq7YA"
      }
    },
    {
      "cell_type": "markdown",
      "source": [
        "\n",
        "*   YACC (Yet Another Compiler-Compiler) is an LALR(1) (LookAhead, Left-to-right, Rightmost derivation producer with 1 lookahead token) parser generator. \n",
        "*   YACC was initially intended to be used in conjunction with Lex.\n",
        "*   The rule or grammar is the input to YACC, and the output is a C program.\n",
        "*   YACC input file is divided into three parts:\n",
        "    1.   Definition -> includes information about the tokens used in the syntax definition.\n",
        "    2.   Rules -> contains grammar definition in a modified Backus Normal Form (BNF)\n",
        "    3.   Auxiliary Routines -> includes function definitions for every function needed in rules part.\n",
        "*   The output file \"file.output\" contains the parsing tables. The file \"file.tab.h\" contains declarations. The parser called the yyparse( ). Parser expects to use a function called yylex() to get tokens. The syntax is as follows:\n",
        "\n",
        "        def function_name_here(symbol):\n",
        "          expression = expression token_name term"
      ],
      "metadata": {
        "id": "5r3fhzr9tuX4"
      }
    },
    {
      "cell_type": "markdown",
      "source": [
        "![image.png](data:image/png;base64,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)"
      ],
      "metadata": {
        "id": "hP4Kv8EXyv9x"
      }
    },
    {
      "cell_type": "markdown",
      "source": [
        "*Yacc Code Snippet*"
      ],
      "metadata": {
        "id": "1ghGwdLyz48P"
      }
    },
    {
      "cell_type": "code",
      "source": [
        "%{\n",
        "#include <ctype.h>\n",
        "#include <stdio.h>\n",
        "#define YYSTYPE double /* double type for yacc stack */\n",
        "%}\n",
        "\n",
        "%%\n",
        "Lines : Lines S '\\n' { printf(\"OK \\n\"); }\n",
        "\t| S '\\n’\n",
        "\t| error '\\n' {yyerror(\"Error: reenter last line:\");\n",
        "\t\t\t\t\t\tyyerrok; };\n",
        "S\t : '(' S ')’\n",
        "\t| '[' S ']’\n",
        "\t| /* empty */ ;\n",
        "%%\n",
        "\n",
        "#include \"lex.yy.c\"\n",
        "\n",
        "void yyerror(char * s)\n",
        "/* yacc error handler */\n",
        "{\n",
        "fprintf (stderr, \"%s\\n\", s);\n",
        "}\n",
        "\n",
        "int main(void)\n",
        "{\n",
        "return yyparse();\n",
        "}\n"
      ],
      "metadata": {
        "id": "lR04g_CJ6CS9"
      },
      "execution_count": null,
      "outputs": []
    },
    {
      "cell_type": "markdown",
      "source": [
        "# **References**"
      ],
      "metadata": {
        "id": "bCA0MBKQ3JmD"
      }
    },
    {
      "cell_type": "markdown",
      "source": [
        "1.   JavaTPoint. 2021. YACC - javatpoint. [online] Available at: <https://www.javatpoint.com/yacc#:~:text=YACC%20stands%20for%20Yet%20Another,by%20LALR%20(1)%20grammar.> [Accessed 5 September 2022]. \n",
        "2.   GeeksforGeeks. 2021. Introduction to YACC - GeeksforGeeks. [online] Available at: <https://www.geeksforgeeks.org/introduction-to-yacc/> [Accessed 5 September 2022].\n",
        "3.   Tutorialandexample.com. 2020. YACC in Compiler Design. [online] Available at: <https://www.tutorialandexample.com/yacc> [Accessed 5 September 2022]."
      ],
      "metadata": {
        "id": "p5t6LdTj3Q8E"
      }
    }
  ]
}