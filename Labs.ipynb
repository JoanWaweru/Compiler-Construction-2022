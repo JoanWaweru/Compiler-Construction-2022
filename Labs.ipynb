{
  "nbformat": 4,
  "nbformat_minor": 0,
  "metadata": {
    "colab": {
      "provenance": [],
      "authorship_tag": "ABX9TyO6gE7LretzGjvALnqpM5Py",
      "include_colab_link": true
    },
    "kernelspec": {
      "name": "python3",
      "display_name": "Python 3"
    },
    "language_info": {
      "name": "python"
    }
  },
  "cells": [
    {
      "cell_type": "markdown",
      "metadata": {
        "id": "view-in-github",
        "colab_type": "text"
      },
      "source": [
        "<a href=\"https://colab.research.google.com/github/JoanWaweru/Compiler-Construction-2022/blob/main/Labs.ipynb\" target=\"_parent\"><img src=\"https://colab.research.google.com/assets/colab-badge.svg\" alt=\"Open In Colab\"/></a>"
      ]
    },
    {
      "cell_type": "markdown",
      "source": [
        "# **Compiler Construction Group Work**\n",
        "\n",
        "---\n",
        "\n"
      ],
      "metadata": {
        "id": "kkh0nW3K90Ku"
      }
    },
    {
      "cell_type": "markdown",
      "source": [
        "Group Members: 122466, 120374, 121425, 122182"
      ],
      "metadata": {
        "id": "8Xe1zHZa96kS"
      }
    },
    {
      "cell_type": "markdown",
      "source": [
        "*Lab 1: Definition of Flex, Lex, Byson and Yacc* "
      ],
      "metadata": {
        "id": "vUAY6JH4-P32"
      }
    },
    {
      "cell_type": "markdown",
      "source": [
        "**A) FLEX**"
      ],
      "metadata": {
        "id": "dC6yz_Spq4eG"
      }
    },
    {
      "cell_type": "code",
      "source": [],
      "metadata": {
        "id": "N4H5oGho-XVM"
      },
      "execution_count": null,
      "outputs": []
    },
    {
      "cell_type": "markdown",
      "source": [
        "**B) LEX**"
      ],
      "metadata": {
        "id": "tWlmi0VLq5Ka"
      }
    },
    {
      "cell_type": "code",
      "source": [],
      "metadata": {
        "id": "n1Z6tZJEq513"
      },
      "execution_count": null,
      "outputs": []
    },
    {
      "cell_type": "markdown",
      "source": [
        "**C) BISON**"
      ],
      "metadata": {
        "id": "SH3Rebzzq6bM"
      }
    },
    {
      "cell_type": "code",
      "source": [],
      "metadata": {
        "id": "Av4nUmOeq601"
      },
      "execution_count": null,
      "outputs": []
    },
    {
      "cell_type": "markdown",
      "source": [
        "**D) YACC**"
      ],
      "metadata": {
        "id": "AgD0v2Beq7YA"
      }
    },
    {
      "cell_type": "markdown",
      "source": [
        "\n",
        "*   YACC (Yet Another Compiler-Compiler) is an LALR(1) (LookAhead, Left-to-right, Rightmost derivation producer with 1 lookahead token) parser generator. \n",
        "*   YACC was initially intended to be used in conjunction with Lex.\n",
        "*   The rule or grammar is the input to YACC, and the output is a C program.\n",
        "*   YACC input file is divided into three parts:\n",
        "    1.   Definition -> includes information about the tokens used in the syntax definition.\n",
        "    2.   Rules -> contains grammar definition in a modified Backus Normal Form (BNF)\n",
        "    3.   Auxiliary Routines -> includes function definitions for every function needed in rules part.\n",
        "*   The output file \"file.output\" contains the parsing tables. The file \"file.tab.h\" contains declarations. The parser called the yyparse( ). Parser expects to use a function called yylex() to get tokens. The syntax is as follows:\n",
        "\n",
        "        def function_name_here(symbol):\n",
        "          expression = expression token_name term"
      ],
      "metadata": {
        "id": "5r3fhzr9tuX4"
      }
    },
    {
      "cell_type": "markdown",
      "source": [
        "![image.png](data:image/png;base64,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)"
      ],
      "metadata": {
        "id": "hP4Kv8EXyv9x"
      }
    },
    {
      "cell_type": "markdown",
      "source": [
        "*Yacc Code Snippet*"
      ],
      "metadata": {
        "id": "1ghGwdLyz48P"
      }
    },
    {
      "cell_type": "code",
      "source": [
        "%{\n",
        "#include <ctype.h>\n",
        "#include <stdio.h>\n",
        "#define YYSTYPE double /* double type for yacc stack */\n",
        "%}\n",
        "\n",
        "%%\n",
        "Lines : Lines S '\\n' { printf(\"OK \\n\"); }\n",
        "\t| S '\\n’\n",
        "\t| error '\\n' {yyerror(\"Error: reenter last line:\");\n",
        "\t\t\t\t\t\tyyerrok; };\n",
        "S\t : '(' S ')’\n",
        "\t| '[' S ']’\n",
        "\t| /* empty */ ;\n",
        "%%\n",
        "\n",
        "#include \"lex.yy.c\"\n",
        "\n",
        "void yyerror(char * s)\n",
        "/* yacc error handler */\n",
        "{\n",
        "fprintf (stderr, \"%s\\n\", s);\n",
        "}\n",
        "\n",
        "int main(void)\n",
        "{\n",
        "return yyparse();\n",
        "}\n"
      ],
      "metadata": {
        "id": "lR04g_CJ6CS9"
      },
      "execution_count": null,
      "outputs": []
    }
  ]
}