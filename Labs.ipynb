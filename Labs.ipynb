{
  "nbformat": 4,
  "nbformat_minor": 0,
  "metadata": {
    "colab": {
      "provenance": [],
      "include_colab_link": true
    },
    "kernelspec": {
      "name": "python3",
      "display_name": "Python 3"
    },
    "language_info": {
      "name": "python"
    }
  },
  "cells": [
    {
      "cell_type": "markdown",
      "metadata": {
        "id": "view-in-github",
        "colab_type": "text"
      },
      "source": [
        "<a href=\"https://colab.research.google.com/github/ShemMwanza/Compiler-Construction-2022/blob/main/Labs.ipynb\" target=\"_parent\"><img src=\"https://colab.research.google.com/assets/colab-badge.svg\" alt=\"Open In Colab\"/></a>"
      ]
    },
    {
      "cell_type": "markdown",
      "source": [
        "# **Compiler Construction Group Work**\n",
        "\n",
        "---\n",
        "\n"
      ],
      "metadata": {
        "id": "kkh0nW3K90Ku"
      }
    },
    {
      "cell_type": "markdown",
      "source": [
        "Group Members: 122466, 120374, 121425, 122182"
      ],
      "metadata": {
        "id": "8Xe1zHZa96kS"
      }
    },
    {
      "cell_type": "markdown",
      "source": [
        "*Lab 1: Definition of Flex, Lex, Byson and Yacc* "
      ],
      "metadata": {
        "id": "vUAY6JH4-P32"
      }
    },
    {
      "cell_type": "markdown",
      "source": [
        "# **FLEX**"
      ],
      "metadata": {
        "id": "dC6yz_Spq4eG"
      }
    },
    {
      "cell_type": "markdown",
      "source": [
        "Flex (fast lexical analyzer generator) is a tool for building compilers, it generates lexical analyzers.\n",
        "\n",
        "\n",
        "*   A flex program has a list of regular expressions with actions which are instructions about what to do when the input matches any of them.\n",
        "*   A flex-generated scanner reads through its input, matching the input against all of the regular expressions and doing the appropriate action on each match.\n",
        "\n",
        "*   Flex translates all regular expressions into an efficient internal form that lets it match the input against all the patterns simultaneously.\n",
        "\n",
        "\n",
        "\n",
        "\n",
        "\n",
        "\n",
        "\n",
        "\n",
        "\n"
      ],
      "metadata": {
        "id": "pbA7Mc3Juxbi"
      }
    },
    {
      "cell_type": "markdown",
      "source": [
        "![picture](https://media.geeksforgeeks.org/wp-content/uploads/how_flex_is_used.jpeg)"
      ],
      "metadata": {
        "id": "2AEKb5Vlu4Ku"
      }
    },
    {
      "cell_type": "markdown",
      "source": [
        "Simple Word Count Flex Program. It is meant to read through a file and return the number of lines, words, and characters.\n"
      ],
      "metadata": {
        "id": "DsxaVKQnzfx9"
      }
    },
    {
      "cell_type": "code",
      "source": [
        "/***Variable are accessed inside yylex() and main()***/\n",
        "%{\n",
        "int chars = 0;\n",
        "int words = 0;\n",
        "int lines = 0;\n",
        "%}\n",
        "\n",
        "/***Rules Section***/\n",
        "\n",
        "%%\n",
        "[a-zA-Z]+ { words++; chars += strlen(yytext); }\n",
        "\\n { chars++; lines++; }\n",
        ". { chars++; }\n",
        "%%\n",
        "\n",
        "/***Code Section that prints the number of lines,word and characters***/\n",
        "int main()\n",
        "{\n",
        " yylex();\n",
        " printf(\"%8d%8d%8d\\n\", lines, words, chars);\n",
        "}\n"
      ],
      "metadata": {
        "id": "N4H5oGho-XVM"
      },
      "execution_count": null,
      "outputs": []
    },
    {
      "cell_type": "markdown",
      "source": [
        "\n",
        "\n",
        "---\n",
        "\n",
        "\n",
        "# **LEX**\n",
        "\n",
        "\n",
        "*   Lex is a program that generates lexical analyzer. It is used with YACC parser generator.\n",
        "*   The lexical analyzer is a program that transforms an input stream into a sequence of tokens.\n",
        "*   It reads the input stream and produces the source code as output through implementing the lexical analyzer in the C program.\n",
        "\n",
        "\n",
        "\n",
        "# **The function of Lex is as follows:**\n",
        " \n",
        "\n",
        "1.   Lexical analyzer creates a program lex.1 in the Lex language.\n",
        "2.   Then Lex compiler runs the lex.1 program and produces a C program lex.yy.c.\n",
        "\n",
        "1.   C compiler runs the lex.yy.c program and produces an object program a.out. \n",
        "(**a.out is a lexical analyzer that transforms an input stream into a sequence of tokens.**)\n",
        "\n",
        "\n",
        "\n",
        "\n",
        "This is illustrated in the diagram below\n",
        "\n",
        "![lex.png](data:image/png;base64,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)"
      ],
      "metadata": {
        "id": "yuku_kFmiQev"
      }
    },
    {
      "cell_type": "markdown",
      "source": [
        "# **LEX SYNTAX**\n",
        "\n",
        "\n",
        "\n",
        "\n",
        "{ definitions }   \n",
        "%%  \n",
        " { rules }   \n",
        "%%   \n",
        "{ user subroutines }  \n",
        "\n",
        "Where:\n",
        "\n",
        "*   Definitions include declarations of constant, variable and regular definitions.\n",
        "*   Rules define the statement of form p1 {action1} p2 {action2}....pn {action}.\n",
        "   Where p1 describes the regular expression and action1 describes the actions  the lexical analyzer should take when pattern p1 matches a lexeme.\n",
        "*   User subroutines are auxiliary procedures needed by the actions. The subroutine can be loaded with the lexical analyzer and compiled separately.\n",
        "\n",
        "**The sections are separated using delimiters**"
      ],
      "metadata": {
        "id": "K21hvu0pjwxl"
      }
    },
    {
      "cell_type": "markdown",
      "source": [
        "Lex code snippet (count the number of words)"
      ],
      "metadata": {
        "id": "_MQA2nc-qZv-"
      }
    },
    {
      "cell_type": "code",
      "source": [
        "%{\n",
        "\t#include<stdio.h>\n",
        "\t#include<string.h>\n",
        "\tint a = 0, b=0, c=0, d=0, l=0;\n",
        "%}\n",
        "\t\n",
        "\n",
        "%%\n",
        "[a-z] {a++;l++;}\n",
        "[A-Z] {b++;l++;}\n",
        "[0-9] {c++;l++;}\n",
        "[$&+, :;=?@#|'<>.-^*()%!] {d++;l++;}\n",
        ". ;\n",
        "%%\n",
        "\t\n",
        "int yywrap(void){}\n",
        "\t\n",
        "int main()\n",
        "{\t\n",
        "\t// The function that starts the analysis\n",
        "\tyylex();\n",
        "\tif(a>0 && b>0 && c>0 && d>0 && l>=8)\n",
        "\tprintf(\"VALID\\n\");\n",
        "\telse\n",
        "\t\tprintf(\"INVALID\\n\");\n",
        "\treturn 0;\n",
        "}\n"
      ],
      "metadata": {
        "id": "LbkKr1DAqXS2"
      },
      "execution_count": null,
      "outputs": []
    },
    {
      "cell_type": "markdown",
      "source": [
        "\n",
        "\n",
        "---\n",
        "\n",
        "\n",
        "**C) BISON**"
      ],
      "metadata": {
        "id": "SH3Rebzzq6bM"
      }
    },
    {
      "cell_type": "code",
      "source": [],
      "metadata": {
        "id": "Av4nUmOeq601"
      },
      "execution_count": null,
      "outputs": []
    },
    {
      "cell_type": "markdown",
      "source": [
        "\n",
        "\n",
        "---\n",
        "\n",
        "\n",
        "**D) YACC**"
      ],
      "metadata": {
        "id": "AgD0v2Beq7YA"
      }
    },
    {
      "cell_type": "markdown",
      "source": [
        "\n",
        "*   YACC (Yet Another Compiler-Compiler) is an LALR(1) (LookAhead, Left-to-right, Rightmost derivation producer with 1 lookahead token) parser generator. \n",
        "*   YACC was initially intended to be used in conjunction with Lex.\n",
        "*   The rule or grammar is the input to YACC, and the output is a C program.\n",
        "*   YACC input file is divided into three parts:\n",
        "    1.   Definition -> includes information about the tokens used in the syntax definition.\n",
        "    2.   Rules -> contains grammar definition in a modified Backus Normal Form (BNF)\n",
        "    3.   Auxiliary Routines -> includes function definitions for every function needed in rules part.\n",
        "*   The output file \"file.output\" contains the parsing tables. The file \"file.tab.h\" contains declarations. The parser called the yyparse( ). Parser expects to use a function called yylex() to get tokens. The syntax is as follows:\n",
        "\n",
        "        def function_name_here(symbol):\n",
        "          expression = expression token_name term"
      ],
      "metadata": {
        "id": "5r3fhzr9tuX4"
      }
    },
    {
      "cell_type": "markdown",
      "source": [
        "![image.png](data:image/png;base64,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)"
      ],
      "metadata": {
        "id": "hP4Kv8EXyv9x"
      }
    },
    {
      "cell_type": "markdown",
      "source": [
        "*Yacc Code Snippet*"
      ],
      "metadata": {
        "id": "1ghGwdLyz48P"
      }
    },
    {
      "cell_type": "code",
      "source": [
        "%{\n",
        "#include <ctype.h>\n",
        "#include <stdio.h>\n",
        "#define YYSTYPE double /* double type for yacc stack */\n",
        "%}\n",
        "\n",
        "%%\n",
        "Lines : Lines S '\\n' { printf(\"OK \\n\"); }\n",
        "\t| S '\\n’\n",
        "\t| error '\\n' {yyerror(\"Error: reenter last line:\");\n",
        "\t\t\t\t\t\tyyerrok; };\n",
        "S\t : '(' S ')’\n",
        "\t| '[' S ']’\n",
        "\t| /* empty */ ;\n",
        "%%\n",
        "\n",
        "#include \"lex.yy.c\"\n",
        "\n",
        "void yyerror(char * s)\n",
        "/* yacc error handler */\n",
        "{\n",
        "fprintf (stderr, \"%s\\n\", s);\n",
        "}\n",
        "\n",
        "int main(void)\n",
        "{\n",
        "return yyparse();\n",
        "}\n"
      ],
      "metadata": {
        "id": "lR04g_CJ6CS9"
      },
      "execution_count": null,
      "outputs": []
    },
    {
      "cell_type": "markdown",
      "source": [
        "---\n",
        "\n",
        "# **REFERENCES**"
      ],
      "metadata": {
        "id": "Ou3ABkvR0MUj"
      }
    },
    {
      "cell_type": "markdown",
      "source": [
        "1.   Levine, J. (2009). Flex & Bison: Text Processing Tools. \" O'Reilly Media, Inc.\".\n",
        "\n",
        "\n"
      ],
      "metadata": {
        "id": "U48gQUIB0yXe"
      }
    }
  ]
}